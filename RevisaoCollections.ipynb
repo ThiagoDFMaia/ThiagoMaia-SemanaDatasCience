{
 "cells": [
  {
   "cell_type": "markdown",
   "metadata": {},
   "source": [
    "# No python existe 4 tipos de collections\n",
    "* Lista[] \n",
    "* Tupla ()\n",
    "* Conjuntos {}\n",
    "* Dicionários {} -> Diferente dos conjuntos os dicionários tem chaves de identificação"
   ]
  },
  {
   "cell_type": "markdown",
   "metadata": {},
   "source": [
    "### Exemplo de listas\n",
    "* As listas são mutaveis -> pode ser alterado ou adicionar mais elementos"
   ]
  },
  {
   "cell_type": "code",
   "execution_count": 4,
   "metadata": {},
   "outputs": [
    {
     "name": "stdout",
     "output_type": "stream",
     "text": [
      "<class 'list'>\n",
      "['flamento', 'botafogo', 'palmeiras']\n"
     ]
    }
   ],
   "source": [
    "lista = ['flamento','botafogo', 'palmeiras']\n",
    "print(type(lista))\n",
    "print (lista)"
   ]
  },
  {
   "cell_type": "markdown",
   "metadata": {},
   "source": [
    "### Exemplo de Tupla\n",
    "* Não é mutável -> é fixo\n",
    "* Se tentar inserir algo a mais depois de iniciado vai da erro"
   ]
  },
  {
   "cell_type": "code",
   "execution_count": 3,
   "metadata": {},
   "outputs": [
    {
     "name": "stdout",
     "output_type": "stream",
     "text": [
      "<class 'tuple'>\n",
      "('botafogo', 'flamengo', 'palmeiras')\n"
     ]
    }
   ],
   "source": [
    "tupla=('botafogo','flamengo','palmeiras')\n",
    "print(type(tupla))\n",
    "print (tupla)"
   ]
  },
  {
   "cell_type": "markdown",
   "metadata": {},
   "source": [
    "### Exemplo de conjuntos\n",
    "* Diferentemente das tuplas e de listas os conjuntos separa os dados repetidos , pode até receber os dados repetidos mas ao mostrar os dados não mostra repetidos\n",
    "* Ao dar um type(conjunto) vai aparecer tipo: set (cuidado)"
   ]
  },
  {
   "cell_type": "code",
   "execution_count": 8,
   "metadata": {},
   "outputs": [
    {
     "name": "stdout",
     "output_type": "stream",
     "text": [
      "<class 'set'>\n",
      "{'botafogo', 'flu', 'flamengo', 'vasco'}\n"
     ]
    }
   ],
   "source": [
    "conjunto ={'vasco','flu','vasco','flu','botafogo','flamengo'}\n",
    "print(type(conjunto))\n",
    "print(conjunto)"
   ]
  },
  {
   "cell_type": "markdown",
   "metadata": {},
   "source": [
    "### Exemplo de dicionários\n",
    "* Diferentemente dos conjuntos nos dicionários são inseridos chaves com seus valores específicos\n",
    "* Coleção de pares : chave:valor\n"
   ]
  },
  {
   "cell_type": "code",
   "execution_count": 12,
   "metadata": {},
   "outputs": [
    {
     "name": "stdout",
     "output_type": "stream",
     "text": [
      "<class 'dict'>\n",
      "{'manga': 'fluta amarela', 'laranja': 'fluta laranjada'}\n",
      "fluta amarela\n",
      "------------ Exemplo com mobiliária -------------\n",
      "Quantidade de apartamentos de Taguatinga: 3\n",
      "taguatinga: 3\n",
      "brazlandia: 5\n",
      "ceilandia: 2\n",
      "candangolandia: 4\n"
     ]
    }
   ],
   "source": [
    "dicionario= {'manga':'fluta amarela', 'laranja':'fluta laranjada'}\n",
    "print (type(dicionario))\n",
    "print(dicionario)\n",
    "print(dicionario[\"manga\"])\n",
    "\n",
    "\n",
    "print('------------ Exemplo com mobiliária -------------')\n",
    "\n",
    "apartamentos ={\n",
    "\"taguatinga\":3,\n",
    "\"brazlandia\":5,\n",
    "\"ceilandia\":2\n",
    "\n",
    "}\n",
    "\n",
    "print (\"Quantidade de apartamentos de Taguatinga:\",apartamentos[\"taguatinga\"]) # saida 3\n",
    "\n",
    "# adicionando novo item\n",
    "\n",
    "apartamentos[\"candangolandia\"]=4\n",
    "\n",
    "# iterando sobre chaves e valores\n",
    "\n",
    "for apartamento , quantidade in apartamentos.items(): # são inseridas 2 variáveis por conta da chave:valor\n",
    "    print(f'{apartamento}: {quantidade}')\n"
   ]
  }
 ],
 "metadata": {
  "kernelspec": {
   "display_name": "Python 3",
   "language": "python",
   "name": "python3"
  },
  "language_info": {
   "codemirror_mode": {
    "name": "ipython",
    "version": 3
   },
   "file_extension": ".py",
   "mimetype": "text/x-python",
   "name": "python",
   "nbconvert_exporter": "python",
   "pygments_lexer": "ipython3",
   "version": "3.12.3"
  }
 },
 "nbformat": 4,
 "nbformat_minor": 2
}
