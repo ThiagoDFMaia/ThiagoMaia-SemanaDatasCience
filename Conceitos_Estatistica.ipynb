{
 "cells": [
  {
   "cell_type": "markdown",
   "metadata": {},
   "source": [
    "# Introdução a estatístisca na análise de dados.\n",
    "\n",
    "* Na análise de dados oriundos de tabelas, banco de dados e entre outros é muito comum a necessidade de utilizar tecnicas de estatístisca para melhor compreensão da informação. \n",
    "* Dentre outras as mais comuns são:\n",
    "    1. Calcular a MÉDIA;\n",
    "    2. Calcular a MEDIANA;\n",
    "    3. Calcular a MODA;\n",
    "    4. Calcular o 1º,2º,3º e 4º QUARTIS\n",
    "    5. Calcular o DESVIO PADRÃO\n",
    "\n",
    "### Todas essas informações ajuda na análise de dados tabulares e na criação de gráficos."
   ]
  },
  {
   "cell_type": "markdown",
   "metadata": {},
   "source": [
    "# Entendendo o calculo da média\n",
    "\n",
    "### Conceito:\n",
    "* A média, também chamada “média aritmética” na linguagem corrente, corresponde à soma dos valores de um grupo de valores, divida pelo número de valores do grupo.\n",
    "\n",
    "### Exemplo:\n",
    "\n",
    "* Dado uma lista={'1','2','3','4','5','6','7'} , o calculo da média se da na soma de todos os números e divir por 7(quantidade de numeros), que seria: media=28/7=4\n",
    "\n",
    "### Dado essa introdução vamos ver como é aplicado essa calculo na análise de dados na programação Python com a biblioteca Pandas\n",
    "#### obs: como requisito requer a instação do pandas com o comando pip install pandas"
   ]
  },
  {
   "cell_type": "code",
   "execution_count": 4,
   "metadata": {},
   "outputs": [],
   "source": [
    "import pandas as pd # importando o pandas"
   ]
  },
  {
   "cell_type": "markdown",
   "metadata": {},
   "source": [
    "# Vamos importar os dados para a leitura\n",
    "### Tabela de dados de alunos"
   ]
  },
  {
   "cell_type": "code",
   "execution_count": 6,
   "metadata": {},
   "outputs": [
    {
     "data": {
      "text/html": [
       "<div>\n",
       "<style scoped>\n",
       "    .dataframe tbody tr th:only-of-type {\n",
       "        vertical-align: middle;\n",
       "    }\n",
       "\n",
       "    .dataframe tbody tr th {\n",
       "        vertical-align: top;\n",
       "    }\n",
       "\n",
       "    .dataframe thead th {\n",
       "        text-align: right;\n",
       "    }\n",
       "</style>\n",
       "<table border=\"1\" class=\"dataframe\">\n",
       "  <thead>\n",
       "    <tr style=\"text-align: right;\">\n",
       "      <th></th>\n",
       "      <th>Nome</th>\n",
       "      <th>Idade</th>\n",
       "      <th>Notas</th>\n",
       "      <th>Aprovado</th>\n",
       "    </tr>\n",
       "  </thead>\n",
       "  <tbody>\n",
       "    <tr>\n",
       "      <th>0</th>\n",
       "      <td>Ary</td>\n",
       "      <td>20</td>\n",
       "      <td>7.5</td>\n",
       "      <td>True</td>\n",
       "    </tr>\n",
       "    <tr>\n",
       "      <th>1</th>\n",
       "      <td>Ana</td>\n",
       "      <td>18</td>\n",
       "      <td>NaN</td>\n",
       "      <td>False</td>\n",
       "    </tr>\n",
       "    <tr>\n",
       "      <th>2</th>\n",
       "      <td>Cátia</td>\n",
       "      <td>27</td>\n",
       "      <td>2.5</td>\n",
       "      <td>False</td>\n",
       "    </tr>\n",
       "    <tr>\n",
       "      <th>3</th>\n",
       "      <td>Denis</td>\n",
       "      <td>18</td>\n",
       "      <td>5.0</td>\n",
       "      <td>False</td>\n",
       "    </tr>\n",
       "    <tr>\n",
       "      <th>4</th>\n",
       "      <td>Beto</td>\n",
       "      <td>21</td>\n",
       "      <td>10.0</td>\n",
       "      <td>True</td>\n",
       "    </tr>\n",
       "    <tr>\n",
       "      <th>5</th>\n",
       "      <td>Bruna</td>\n",
       "      <td>23</td>\n",
       "      <td>NaN</td>\n",
       "      <td>False</td>\n",
       "    </tr>\n",
       "    <tr>\n",
       "      <th>6</th>\n",
       "      <td>Dara</td>\n",
       "      <td>21</td>\n",
       "      <td>7.0</td>\n",
       "      <td>True</td>\n",
       "    </tr>\n",
       "    <tr>\n",
       "      <th>7</th>\n",
       "      <td>Carlos</td>\n",
       "      <td>19</td>\n",
       "      <td>6.0</td>\n",
       "      <td>True</td>\n",
       "    </tr>\n",
       "    <tr>\n",
       "      <th>8</th>\n",
       "      <td>Alice</td>\n",
       "      <td>35</td>\n",
       "      <td>5.6</td>\n",
       "      <td>False</td>\n",
       "    </tr>\n",
       "    <tr>\n",
       "      <th>9</th>\n",
       "      <td>Vitor</td>\n",
       "      <td>28</td>\n",
       "      <td>NaN</td>\n",
       "      <td>False</td>\n",
       "    </tr>\n",
       "    <tr>\n",
       "      <th>10</th>\n",
       "      <td>Daniel</td>\n",
       "      <td>21</td>\n",
       "      <td>NaN</td>\n",
       "      <td>False</td>\n",
       "    </tr>\n",
       "    <tr>\n",
       "      <th>11</th>\n",
       "      <td>Igor</td>\n",
       "      <td>24</td>\n",
       "      <td>4.5</td>\n",
       "      <td>False</td>\n",
       "    </tr>\n",
       "    <tr>\n",
       "      <th>12</th>\n",
       "      <td>Sthefanie</td>\n",
       "      <td>26</td>\n",
       "      <td>9.5</td>\n",
       "      <td>True</td>\n",
       "    </tr>\n",
       "    <tr>\n",
       "      <th>13</th>\n",
       "      <td>Mirla</td>\n",
       "      <td>25</td>\n",
       "      <td>9.0</td>\n",
       "      <td>True</td>\n",
       "    </tr>\n",
       "    <tr>\n",
       "      <th>14</th>\n",
       "      <td>Paulo</td>\n",
       "      <td>37</td>\n",
       "      <td>NaN</td>\n",
       "      <td>False</td>\n",
       "    </tr>\n",
       "    <tr>\n",
       "      <th>15</th>\n",
       "      <td>Mylena</td>\n",
       "      <td>29</td>\n",
       "      <td>7.0</td>\n",
       "      <td>True</td>\n",
       "    </tr>\n",
       "    <tr>\n",
       "      <th>16</th>\n",
       "      <td>Lucas</td>\n",
       "      <td>33</td>\n",
       "      <td>NaN</td>\n",
       "      <td>False</td>\n",
       "    </tr>\n",
       "    <tr>\n",
       "      <th>17</th>\n",
       "      <td>Nadia</td>\n",
       "      <td>34</td>\n",
       "      <td>8.0</td>\n",
       "      <td>True</td>\n",
       "    </tr>\n",
       "  </tbody>\n",
       "</table>\n",
       "</div>"
      ],
      "text/plain": [
       "         Nome  Idade  Notas  Aprovado\n",
       "0         Ary     20    7.5      True\n",
       "1         Ana     18    NaN     False\n",
       "2       Cátia     27    2.5     False\n",
       "3       Denis     18    5.0     False\n",
       "4        Beto     21   10.0      True\n",
       "5       Bruna     23    NaN     False\n",
       "6        Dara     21    7.0      True\n",
       "7      Carlos     19    6.0      True\n",
       "8       Alice     35    5.6     False\n",
       "9       Vitor     28    NaN     False\n",
       "10     Daniel     21    NaN     False\n",
       "11       Igor     24    4.5     False\n",
       "12  Sthefanie     26    9.5      True\n",
       "13      Mirla     25    9.0      True\n",
       "14      Paulo     37    NaN     False\n",
       "15     Mylena     29    7.0      True\n",
       "16      Lucas     33    NaN     False\n",
       "17      Nadia     34    8.0      True"
      ]
     },
     "execution_count": 6,
     "metadata": {},
     "output_type": "execute_result"
    }
   ],
   "source": [
    "url=\"DataSet/alunos.csv\"\n",
    "\n",
    "alunos=pd.read_csv(url)\n",
    "alunos"
   ]
  },
  {
   "cell_type": "markdown",
   "metadata": {},
   "source": [
    "### Dado a tabela de alunos vamos fazer o calculo da média encima da idade dos alunos utilizando a função mean():"
   ]
  },
  {
   "cell_type": "code",
   "execution_count": 18,
   "metadata": {},
   "outputs": [
    {
     "name": "stdout",
     "output_type": "stream",
     "text": [
      "Media de idades é:  25.5\n",
      "Média das notas dos alunos é: 6.8\n"
     ]
    }
   ],
   "source": [
    "media=alunos['Idade'].mean()\n",
    "print(f'Media de idades é:  {media}')\n",
    "# Podemos calcular também a média das notas dos alunos, levando em consideração as notas válidas\n",
    "print(f'Média das notas dos alunos é: {alunos['Notas'].mean()}')"
   ]
  },
  {
   "cell_type": "markdown",
   "metadata": {},
   "source": [
    "# Agora que entendemos como é feito o calculo da média vamos ao conceito de MEDIANA\n",
    "\n",
    "### Conceito:\n",
    "\n",
    "* A mediana é o valor central de um conjunto de números colocados por ordem de grandeza. Trata-se do número que se encontra exatamente no centro, de modo que 50% dos números são superiores e 50% são inferiores a essa mediana.\n",
    "\n",
    "### Exemplo:\n",
    "* Dado a lista={'1','2','3','4','5','6','7'}, a mediana seria exatamente=4 (dividindo a lista ao meio), sabendo disso vamos a algumas informações.\n",
    "    1. Calculo para mediana para número IMPAR de elementos: Faz a ordenação crescente dos elementos da tabela e faz o calculo (total_elementos+1)/2 , o resultado vai ser o indice do elemento correspondente a media, (7+1)/2=4 fazendo a contagem vamos ver que o numero 4 é o quarto elemento e esta no meio da tabela;\n",
    "\n",
    "    2. Calculo para mediana para número PAR de elementos:   Dado a lista={'1','2','3','4','5','6','7','8'}', podemos calcular  (total_elementos+1)/2 que vai cortar a lista exatamente ao medio , no exempo entre {4,5}, somamos o primeiro elemento anterior e o primeiro elemento posterior e dividimos por 2 , no caso (4+5)/2=4.5, 4.5 é a nossa mediana. \n",
    "\n",
    "#### Agora voltamos para nossa tabela de Alunos para calcularmos a mediana das idades."
   ]
  },
  {
   "cell_type": "code",
   "execution_count": 19,
   "metadata": {},
   "outputs": [
    {
     "name": "stdout",
     "output_type": "stream",
     "text": [
      "A mediana de idades é:  24.5\n",
      "A mediana das notas é:  7.0\n"
     ]
    }
   ],
   "source": [
    "mediana=alunos['Idade'].median()\n",
    "print(f'A mediana de idades é:  {mediana}')\n",
    "# Calculando a mediana das notas\n",
    "print(f'A mediana das notas é:  {alunos['Notas'].median()}')"
   ]
  },
  {
   "cell_type": "markdown",
   "metadata": {},
   "source": [
    "# Agora vamos ao conceito de MODA\n",
    "### Conceito:\n",
    "* Levando em consideração no mundo real, moda é aquilo que mais se repete, ou seja, dado umas lista de elementos a moda é o elemento que mais se repete na lista.\n",
    "### Mas vamos à algumas considerações:\n",
    "* Dado a lista={'1','2','3','4','5','6','7','8'}, podemos reparar que nenhum elemento se repete, então podemos considera-la uma lista AMODAL, nenhum elemento se repete.\n",
    "\n",
    "* Dado a lista={'1','2','3','3','4','5','6','7'}, podemos reparar que o elemento 3 repete 2 vezes, então podemos considera-la uma lista UNIMODAL, pois temos somente uma MODA na lista.\n",
    "\n",
    "\n",
    "* Dado a lista={'1','2','3','3','4','4','5','6'}, podemos reparar que o elemento 3 e o 4 repetem 2 vezes cada, então podemos considera-la uma lista BIMODAL, pois duas modas na lista.\n",
    "\n",
    "\n",
    "* E dado a lista={'1','2','3','3','4','4','5','5','6','7'}, podemos reparar que o elemento 3, 4, 5  repetem 3 vezes cada, então podemos considera-la uma lista MULTIMODAL, pois 3 modas na lista. \n",
    "    #### obs: 3 ou mais modas é considerado MULTIMODAL\n",
    "\n",
    "### Agora vamos a nossa tabela.\n"
   ]
  },
  {
   "cell_type": "code",
   "execution_count": 25,
   "metadata": {},
   "outputs": [
    {
     "name": "stdout",
     "output_type": "stream",
     "text": [
      "A moda de idades é:  [21]\n",
      "A moda das notas é:  [7.0]\n"
     ]
    }
   ],
   "source": [
    "# Dado a tabela dos alunos vamos calcular a moda das idades e notas\n",
    "\n",
    "moda=alunos['Idade'].mode()\n",
    "print(f'A moda de idades é:  {moda.values.tolist()}')# mostra a lista dos elementos que mais se repetem\n",
    "# Calculando a moda das notas\n",
    "print(f'A moda das notas é:  {alunos['Notas'].mode().tolist()}')"
   ]
  },
  {
   "attachments": {
    "desvioPadrao.PNG": {
     "image/png": "[encoded data removed]"
    }
   },
   "cell_type": "markdown",
   "metadata": {},
   "source": [
    "# Agora vamos entender o que é desvio padrão\n",
    "\n",
    "### Conceito:\n",
    "* O desvio padrão indica a medida de dispersão de um conjunto de dados em relação à sua média aritmética, indicando o quão próximas ou distantes dela esses dados estão. Ou seja, por muitas vezes os dados da média não corresponde a realidade daquela lista de dados, então ao calcular o desvio padrão podemos verificar o quão proximo esses dados estão da realidade.\n",
    "\n",
    "* Segue a formula para calcular o desvio padrão:\n",
    "\n",
    "![desvioPadrao.PNG](attachment:desvioPadrao.PNG)\n",
    "\n",
    "\n",
    "### A fórmula do desvio-padrão pode parecer confusa, mas ela vai fazer sentido depois de a desmembrarmos. Nas próximas seções, vamos apresentar passo a passo um exemplo interativo. Segue uma breve amostra dos passos que vamos seguir:\n",
    "* ETAPAS:\n",
    "    * Etapa 1: calcular a média.\n",
    "    * Etapa 2: calcular o quadrado da distância entre cada ponto e a média.\n",
    "    * Etapa 3: somar os valores da Etapa 2.\n",
    "    * Etapa 4: dividir pelo número de pontos.\n",
    "    * Etapa 5: calcular a raiz quadrada.\n",
    "\n",
    "### Vamos simplificar fazendo o calculo diretamente no PANDAS\n",
    "#### OBS: Quanto mais alto for o valor do desvio padrão mais indica a distância dos valores em relação da média"
   ]
  },
  {
   "cell_type": "code",
   "execution_count": 27,
   "metadata": {},
   "outputs": [
    {
     "name": "stdout",
     "output_type": "stream",
     "text": [
      "O desio padrão das idades é:  6.070662334249088\n",
      "O desio padrão das notas é:  2.204953101954366\n"
     ]
    }
   ],
   "source": [
    "# Dado a tabela dos alunos vamos calcular a o desio padrão das idades e notas\n",
    "\n",
    "desvio_padrao=alunos['Idade'].std()\n",
    "print(f'O desio padrão das idades é:  {desvio_padrao}')\n",
    "# Calculando a o desvio padrão das notas\n",
    "print(f'O desio padrão das notas é:  {alunos['Notas'].std()}')"
   ]
  },
  {
   "cell_type": "markdown",
   "metadata": {},
   "source": [
    "# Enfim vamos ao conceito de Quartis\n",
    "\n",
    "### Conceito:\n",
    "\n",
    "* Os quartis são valores que dividem uma amostra de dados em quatro partes iguais e são usados para avaliar a dispersão e a tendência central de um conjunto de dados. Imagine uma reta de 0 a 100%, com etapas intermediárias de 25%, 50% e 75%. \n",
    "\n",
    "    * O primeiro quartil, também chamado de inferior, é o valor da posição central entre o primeiro termo e a mediana. Indica que, até seu valor, há 25% dos dados;\n",
    "\n",
    "    * O segundo quartil, conhecido por mediana, é o valor até 50% da amostra ordenada;\n",
    "\n",
    "    * O terceiro quartil, também chamado de superior, é o meio do caminho entre a mediana e o último termo. Indica que, até seu valor, há 75% dos dados.\n",
    "\n",
    "\n",
    "#### Vamos ao PANDAS para exemplificar:"
   ]
  },
  {
   "cell_type": "code",
   "execution_count": 32,
   "metadata": {},
   "outputs": [
    {
     "name": "stdout",
     "output_type": "stream",
     "text": [
      "Calculando os quartis das idades\n",
      "O primeiro quartil das idades é:  21.0\n",
      "O segundo quartil das idades é:  24.5\n",
      "O terceiro quartil das idades é:  28.75\n",
      "Calculando os quartis das notas\n",
      "O primeiro quartil das notas é:  5.449999999999999\n",
      "O segundo quartil das notas é:  7.0\n",
      "O terceiro quartil das notas é:  8.25\n"
     ]
    }
   ],
   "source": [
    "# Dado a tabela dos alunos vamos calcular os quartis de idades e alunos\n",
    "print('Calculando os quartis das idades')\n",
    "primeiro_quartil=alunos['Idade'].quantile(0.25)\n",
    "segundo_quartil=alunos['Idade'].quantile(0.50)\n",
    "terceiro_quartil=alunos['Idade'].quantile(0.75)\n",
    "\n",
    "print(f'O primeiro quartil das idades é:  {primeiro_quartil}')\n",
    "print(f'O segundo quartil das idades é:  {segundo_quartil}')\n",
    "print(f'O terceiro quartil das idades é:  {terceiro_quartil}')\n",
    "# Calculando os quartis das notas\n",
    "print('Calculando os quartis das notas')\n",
    "primeiro_quartil=alunos['Notas'].quantile(0.25)\n",
    "segundo_quartil=alunos['Notas'].quantile(0.50)\n",
    "terceiro_quartil=alunos['Notas'].quantile(0.75)\n",
    "print(f'O primeiro quartil das notas é:  {primeiro_quartil}')\n",
    "print(f'O segundo quartil das notas é:  {segundo_quartil}')\n",
    "print(f'O terceiro quartil das notas é:  {terceiro_quartil}')"
   ]
  },
  {
   "cell_type": "markdown",
   "metadata": {},
   "source": [
    "### Neste notebook, exploramos os conceitos fundamentais de análise estatística, incluindo média, mediana, moda, desvio padrão e quartis. Utilizando dados e exemplos práticos, discutimos como cada uma dessas medidas oferece insights valiosos sobre a distribuição e a variabilidade dos dados.\n",
    "* Média: Calculamos a média para obter uma visão geral do valor central dos dados.\n",
    "* Mediana: Identificamos a mediana para entender o ponto central da distribuição, especialmente útil em conjuntos de dados com * possíveis outliers.\n",
    "* Moda: Analisamos a moda para descobrir os valores mais frequentes no conjunto de dados.\n",
    "* Desvio Padrão: Calculamos o desvio padrão para medir a dispersão dos dados em relação à média, fornecendo uma ideia da variabilidade.\n",
    "* Quartis: Examinamos os quartis para dividir os dados em partes iguais e entender a distribuição em diferentes intervalos.\n",
    "\n",
    "\n",
    "### Este material visa proporcionar uma compreensão clara e prática dessas medidas estatísticas, complementando o conhecimento adquirido ao longo da minha trajetória acadêmica e profissional. A análise detalhada dos dados foi realizada com o apoio de ferramentas e técnicas modernas para garantir precisão e relevância.\n",
    "\n",
    "#### Agradeço pela leitura e encorajo você a aplicar essas técnicas em suas próprias análises, explorando novas formas de interpretar e entender dados. Não hesite em compartilhar suas descobertas e insights!\n"
   ]
  }
 ],
 "metadata": {
  "kernelspec": {
   "display_name": "Python 3",
   "language": "python",
   "name": "python3"
  },
  "language_info": {
   "codemirror_mode": {
    "name": "ipython",
    "version": 3
   },
   "file_extension": ".py",
   "mimetype": "text/x-python",
   "name": "python",
   "nbconvert_exporter": "python",
   "pygments_lexer": "ipython3",
   "version": "3.12.4"
  }
 },
 "nbformat": 4,
 "nbformat_minor": 2
}
